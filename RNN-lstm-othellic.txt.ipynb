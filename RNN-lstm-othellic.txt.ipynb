{
 "cells": [
  {
   "cell_type": "code",
   "execution_count": 1,
   "metadata": {},
   "outputs": [
    {
     "name": "stderr",
     "output_type": "stream",
     "text": [
      "Using TensorFlow backend.\n"
     ]
    }
   ],
   "source": [
    "import numpy as np\n",
    "from keras.models import Sequential\n",
    "from keras.layers import Dense\n",
    "from keras.layers import Dropout\n",
    "from keras.layers import LSTM\n",
    "from keras.utils import np_utils"
   ]
  },
  {
   "cell_type": "code",
   "execution_count": 2,
   "metadata": {},
   "outputs": [],
   "source": [
    "#Read the data, turn it into lower case\n",
    "data = open(\"othlic.txt\").read().lower()\n",
    "\n",
    "#This get the set of characters used in the data and sorts them\n",
    "chars = sorted(list(set(data)))\n",
    "\n",
    "#Total number of characters used in the data\n",
    "totalChars = len(data)\n",
    "\n",
    "#Number of unique chars\n",
    "numberOfUniqueChars = len(chars)"
   ]
  },
  {
   "cell_type": "code",
   "execution_count": 3,
   "metadata": {},
   "outputs": [],
   "source": [
    "#This allows for characters to be represented by numbers\n",
    "CharsForids = {char:Id for Id, char in enumerate(chars)}"
   ]
  },
  {
   "cell_type": "code",
   "execution_count": 4,
   "metadata": {},
   "outputs": [],
   "source": [
    "#This is the opposite to the above\n",
    "idsForChars = {Id:char for Id, char in enumerate(chars)}"
   ]
  },
  {
   "cell_type": "code",
   "execution_count": 5,
   "metadata": {},
   "outputs": [],
   "source": [
    "\n",
    "#How many timesteps e.g how many characters we want to process in one go\n",
    "numberOfCharsToLearn = 100"
   ]
  },
  {
   "cell_type": "code",
   "execution_count": 6,
   "metadata": {},
   "outputs": [],
   "source": [
    "#Since our timestep sequence represetns a process for every 100 chars we omit\n",
    "#the first 100 chars so the loop runs a 100 less or there will be index out of\n",
    "#range\n",
    "counter = totalChars - numberOfCharsToLearn"
   ]
  },
  {
   "cell_type": "code",
   "execution_count": 7,
   "metadata": {},
   "outputs": [],
   "source": [
    "#Inpput data\n",
    "charX = []\n"
   ]
  },
  {
   "cell_type": "code",
   "execution_count": 8,
   "metadata": {},
   "outputs": [],
   "source": [
    "#output data\n",
    "y = []\n",
    "\n",
    "#This loops through all the characters in the data skipping the first 100\n",
    "for i in range(0, counter, 1):\n",
    "    #This one goes from 0-100 so it gets 100 values starting from 0 and stops\n",
    "    #just before the 100th value\n",
    "    \n",
    "    theInputChars = data[i:i+numberOfCharsToLearn]\n",
    "    #With no : you start with 0, and so you get the actual 100th value\n",
    "    #Essentially, the output Chars is the next char in line for those 100 chars\n",
    "    #in X\n",
    "    \n",
    "    theOutputChars = data[i + numberOfCharsToLearn]\n",
    "    \n",
    "    #Appends every 100 chars ids as a list into X\n",
    "    charX.append([CharsForids[char] for char in theInputChars])\n",
    "    \n",
    "    #For every 100 values there is one y value which is the output\n",
    "    y.append(CharsForids[theOutputChars])"
   ]
  },
  {
   "cell_type": "code",
   "execution_count": 9,
   "metadata": {},
   "outputs": [],
   "source": [
    "#Len charX represents how many of those time steps we have\n",
    "#Our features are set to 1 because in the output we are only predicting 1 char\n",
    "#Finally numberOfCharsToLearn is how many character we process\n",
    "X = np.reshape(charX, (len(charX), numberOfCharsToLearn, 1))"
   ]
  },
  {
   "cell_type": "code",
   "execution_count": 10,
   "metadata": {},
   "outputs": [],
   "source": [
    "#This is done for normalization\n",
    "X = X/float(numberOfUniqueChars)\n"
   ]
  },
  {
   "cell_type": "code",
   "execution_count": 11,
   "metadata": {},
   "outputs": [
    {
     "name": "stdout",
     "output_type": "stream",
     "text": [
      "[[1. 0. 0. ... 0. 0. 0.]\n",
      " [0. 0. 0. ... 0. 0. 0.]\n",
      " [0. 0. 0. ... 0. 0. 0.]\n",
      " ...\n",
      " [0. 0. 0. ... 0. 0. 0.]\n",
      " [0. 0. 0. ... 0. 0. 0.]\n",
      " [0. 0. 0. ... 0. 0. 0.]]\n"
     ]
    }
   ],
   "source": [
    "#This sets it up for us so we can have a categorical(#feature) output format\n",
    "y = np_utils.to_categorical(y)\n",
    "print(y)"
   ]
  },
  {
   "cell_type": "code",
   "execution_count": 12,
   "metadata": {},
   "outputs": [
    {
     "name": "stdout",
     "output_type": "stream",
     "text": [
      "WARNING:tensorflow:From C:\\Users\\USER\\Anaconda3\\lib\\site-packages\\keras\\backend\\tensorflow_backend.py:66: The name tf.get_default_graph is deprecated. Please use tf.compat.v1.get_default_graph instead.\n",
      "\n",
      "WARNING:tensorflow:From C:\\Users\\USER\\Anaconda3\\lib\\site-packages\\keras\\backend\\tensorflow_backend.py:541: The name tf.placeholder is deprecated. Please use tf.compat.v1.placeholder instead.\n",
      "\n",
      "WARNING:tensorflow:From C:\\Users\\USER\\Anaconda3\\lib\\site-packages\\keras\\backend\\tensorflow_backend.py:4432: The name tf.random_uniform is deprecated. Please use tf.random.uniform instead.\n",
      "\n",
      "WARNING:tensorflow:From C:\\Users\\USER\\Anaconda3\\lib\\site-packages\\keras\\backend\\tensorflow_backend.py:148: The name tf.placeholder_with_default is deprecated. Please use tf.compat.v1.placeholder_with_default instead.\n",
      "\n",
      "WARNING:tensorflow:From C:\\Users\\USER\\Anaconda3\\lib\\site-packages\\keras\\backend\\tensorflow_backend.py:3733: calling dropout (from tensorflow.python.ops.nn_ops) with keep_prob is deprecated and will be removed in a future version.\n",
      "Instructions for updating:\n",
      "Please use `rate` instead of `keep_prob`. Rate should be set to `rate = 1 - keep_prob`.\n",
      "WARNING:tensorflow:From C:\\Users\\USER\\Anaconda3\\lib\\site-packages\\keras\\optimizers.py:793: The name tf.train.Optimizer is deprecated. Please use tf.compat.v1.train.Optimizer instead.\n",
      "\n",
      "WARNING:tensorflow:From C:\\Users\\USER\\Anaconda3\\lib\\site-packages\\keras\\backend\\tensorflow_backend.py:3576: The name tf.log is deprecated. Please use tf.math.log instead.\n",
      "\n",
      "WARNING:tensorflow:From C:\\Users\\USER\\Anaconda3\\lib\\site-packages\\tensorflow\\python\\ops\\math_grad.py:1250: add_dispatch_support.<locals>.wrapper (from tensorflow.python.ops.array_ops) is deprecated and will be removed in a future version.\n",
      "Instructions for updating:\n",
      "Use tf.where in 2.0, which has the same broadcast rule as np.where\n",
      "Epoch 1/5\n",
      "154393/154393 [==============================] - 579s 4ms/step - loss: 3.0002\n",
      "Epoch 2/5\n",
      "154393/154393 [==============================] - 578s 4ms/step - loss: 2.7604\n",
      "Epoch 3/5\n",
      "154393/154393 [==============================] - 583s 4ms/step - loss: 2.6542\n",
      "Epoch 4/5\n",
      "154393/154393 [==============================] - 591s 4ms/step - loss: 2.5869\n",
      "Epoch 5/5\n",
      "154393/154393 [==============================] - 571s 4ms/step - loss: 2.5334\n"
     ]
    }
   ],
   "source": [
    "model = Sequential()\n",
    "\n",
    "#Since we know the shape of our Data we can input the timestep and feature data\n",
    "#The number of timestep sequence are dealt with in the fit function\n",
    "model.add(LSTM(256, input_shape=(X.shape[1], X.shape[2])))\n",
    "model.add(Dropout(0.2))\n",
    "\n",
    "#number of features on the output\n",
    "model.add(Dense(y.shape[1], activation='softmax'))\n",
    "model.compile(loss='categorical_crossentropy', optimizer='adam')\n",
    "model.fit(X, y, epochs=5, batch_size=128)\n",
    "model.save_weights(\"Othello.hdf5\")\n"
   ]
  },
  {
   "cell_type": "code",
   "execution_count": 13,
   "metadata": {},
   "outputs": [
    {
     "name": "stdout",
     "output_type": "stream",
     "text": [
      "assio ]\n",
      "\n",
      "\n",
      "\n",
      "acc cit r besdem.]\n",
      "\n",
      "\n",
      "aassio ]\n",
      "\n",
      "\n",
      "\n",
      "acc cit r besdem.]\n",
      "\n",
      "\n",
      "aassio ]\n",
      "\n",
      "\n",
      "\n",
      "acc cit r besdem.]\n",
      "\n",
      "\n",
      "aa\n"
     ]
    }
   ],
   "source": [
    "randomVal = np.random.randint(0, len(charX)-1)\n",
    "randomStart = charX[randomVal]\n",
    "for i in range(500):\n",
    "    x = np.reshape(randomStart, (1, len(randomStart), 1))\n",
    "    x = x/float(numberOfUniqueChars)\n",
    "    pred = model.predict(x)\n",
    "    index = np.argmax(pred)\n",
    "    randomStart.append(index)\n",
    "    randomStart = randomStart[1: len(randomStart)]\n",
    "print(\"\".join([idsForChars[value] for value in randomStart]))"
   ]
  },
  {
   "cell_type": "code",
   "execution_count": null,
   "metadata": {},
   "outputs": [],
   "source": []
  }
 ],
 "metadata": {
  "kernelspec": {
   "display_name": "Python 3",
   "language": "python",
   "name": "python3"
  },
  "language_info": {
   "codemirror_mode": {
    "name": "ipython",
    "version": 3
   },
   "file_extension": ".py",
   "mimetype": "text/x-python",
   "name": "python",
   "nbconvert_exporter": "python",
   "pygments_lexer": "ipython3",
   "version": "3.7.3"
  }
 },
 "nbformat": 4,
 "nbformat_minor": 2
}
